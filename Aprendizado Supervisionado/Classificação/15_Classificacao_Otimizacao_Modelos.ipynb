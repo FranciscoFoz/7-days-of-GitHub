{
  "nbformat": 4,
  "nbformat_minor": 0,
  "metadata": {
    "colab": {
      "private_outputs": true,
      "provenance": [],
      "authorship_tag": "ABX9TyMHDO8h/MGX9rhrmdqpZTrA",
      "include_colab_link": true
    },
    "kernelspec": {
      "name": "python3",
      "display_name": "Python 3"
    },
    "language_info": {
      "name": "python"
    }
  },
  "cells": [
    {
      "cell_type": "markdown",
      "metadata": {
        "id": "view-in-github",
        "colab_type": "text"
      },
      "source": [
        "<a href=\"https://colab.research.google.com/github/FranciscoFoz/7-days-of-GitHub/blob/main/Aprendizado%20Supervisionado/Classifica%C3%A7%C3%A3o/15_Classificacao_Otimizacao_Modelos.ipynb\" target=\"_parent\"><img src=\"https://colab.research.google.com/assets/colab-badge.svg\" alt=\"Open In Colab\"/></a>"
      ]
    },
    {
      "cell_type": "markdown",
      "source": [
        "# Curso Alura - Classificação: otimizando modelos"
      ],
      "metadata": {
        "id": "VOyxYmUYmnlM"
      }
    },
    {
      "cell_type": "markdown",
      "source": [
        "## 1. Construindo os modelos iniciais"
      ],
      "metadata": {
        "id": "nIX0G2kwn1EI"
      }
    },
    {
      "cell_type": "code",
      "source": [
        "import pandas as pd"
      ],
      "metadata": {
        "id": "_ekAajJNm3XR"
      },
      "execution_count": null,
      "outputs": []
    },
    {
      "cell_type": "code",
      "execution_count": null,
      "metadata": {
        "id": "i0hR-yyomNoR"
      },
      "outputs": [],
      "source": [
        "url_dados = 'https://3070-classificacao-otimizacao.s3.us-east-2.amazonaws.com/dados_inadimplencia.csv'"
      ]
    },
    {
      "cell_type": "code",
      "source": [
        "dados = pd.read_csv(url_dados)\n",
        "dados.head()"
      ],
      "metadata": {
        "id": "H8jRJ4I3nDEJ"
      },
      "execution_count": null,
      "outputs": []
    },
    {
      "cell_type": "code",
      "source": [
        "dados.describe()"
      ],
      "metadata": {
        "id": "FwUOkq6dnIPx"
      },
      "execution_count": null,
      "outputs": []
    },
    {
      "cell_type": "code",
      "source": [
        "dados.inadimplente.value_counts()"
      ],
      "metadata": {
        "id": "80Zg0smGnP5Y"
      },
      "execution_count": null,
      "outputs": []
    },
    {
      "cell_type": "code",
      "source": [
        "x = dados.drop('inadimplente', axis =1)\n",
        "y = dados['inadimplente']"
      ],
      "metadata": {
        "id": "ynDOeQQMnYV4"
      },
      "execution_count": null,
      "outputs": []
    },
    {
      "cell_type": "code",
      "source": [
        "from sklearn.model_selection import train_test_split\n",
        "\n",
        "RANDOM_STATE = 42\n",
        "\n",
        "x_treino, x_teste, y_treino, y_teste = train_test_split(x, y, test_size=0.33, random_state=RANDOM_STATE, stratify=y)"
      ],
      "metadata": {
        "id": "zSwGIXjUndFW"
      },
      "execution_count": null,
      "outputs": []
    },
    {
      "cell_type": "code",
      "source": [
        "from sklearn.tree import DecisionTreeClassifier\n",
        "\n",
        "modelo_dt = DecisionTreeClassifier(max_depth=3, random_state=RANDOM_STATE)\n",
        "modelo_dt.fit(x_treino, y_treino)\n",
        "\n",
        "from sklearn.metrics import recall_score\n",
        "\n",
        "recall_dt = recall_score(y_teste, modelo_dt.predict(x_teste))\n",
        "print(f\"Recall do DT = {recall_dt:.3f}\")"
      ],
      "metadata": {
        "id": "E2wF77wangn1"
      },
      "execution_count": null,
      "outputs": []
    },
    {
      "cell_type": "code",
      "source": [
        "from sklearn.linear_model import LogisticRegression\n",
        "from sklearn.pipeline import make_pipeline\n",
        "from sklearn.preprocessing import StandardScaler\n",
        "\n",
        "logistic_pipeline = make_pipeline(StandardScaler(), LogisticRegression())\n",
        "\n",
        "logistic_pipeline.fit(x_treino, y_treino)\n",
        "\n",
        "recall_lr = recall_score(y_teste, logistic_pipeline.predict(x_teste))\n",
        "print(f\"Recall do logistic regression = {recall_lr:.3f}\")"
      ],
      "metadata": {
        "id": "RjAb9LCepDLf"
      },
      "execution_count": null,
      "outputs": []
    },
    {
      "cell_type": "markdown",
      "source": [
        "## 2. Realizando a busca em grade"
      ],
      "metadata": {
        "id": "0vFiS5bypy6K"
      }
    },
    {
      "cell_type": "code",
      "source": [
        "from sklearn.model_selection import GridSearchCV"
      ],
      "metadata": {
        "id": "08-00deOpEzf"
      },
      "execution_count": null,
      "outputs": []
    },
    {
      "cell_type": "code",
      "source": [
        "import numpy as np\n",
        "from sklearn.model_selection import StratifiedKFold\n",
        "\n",
        "param_grid_dt = {\n",
        "    'criterion':  ['gini', 'entropy'],\n",
        "    'max_depth': np.linspace(6, 12, 4, dtype=int),\n",
        "    'min_samples_split': np.linspace(5, 20, 4, dtype=int),\n",
        "    'min_samples_leaf': np.linspace(5, 20, 4, dtype=int),\n",
        "    'max_features': ['sqrt', 'log2'],\n",
        "    'splitter': ['best', 'random']\n",
        "}\n",
        "\n",
        "\n",
        "\n",
        "cv = StratifiedKFold(n_splits=5, shuffle=True, random_state=RANDOM_STATE)\n",
        "\n",
        "dt_grid_search = GridSearchCV(estimator = DecisionTreeClassifier(random_state=RANDOM_STATE),\n",
        "                              param_grid = param_grid_dt,\n",
        "                              scoring = \"recall\",\n",
        "                              n_jobs = -1,\n",
        "                              cv = cv)\n",
        "\n",
        "dt_grid_search.fit(x_treino, y_treino)"
      ],
      "metadata": {
        "id": "gjpfpLeBp_kY"
      },
      "execution_count": null,
      "outputs": []
    },
    {
      "cell_type": "code",
      "source": [
        "\n",
        "dt_grid_search.best_params_"
      ],
      "metadata": {
        "id": "Fcrx928UqEDv"
      },
      "execution_count": null,
      "outputs": []
    },
    {
      "cell_type": "code",
      "source": [
        "df_cv_results_dt = pd.DataFrame(dt_grid_search.cv_results_)\n",
        "\n",
        "df_cv_results_dt.loc[[dt_grid_search.best_index_]]"
      ],
      "metadata": {
        "id": "5T1hVdF_r-5Z"
      },
      "execution_count": null,
      "outputs": []
    },
    {
      "cell_type": "code",
      "source": [
        "import matplotlib.pyplot as plt\n",
        "\n",
        "plt.figure(figsize=(10, 6))\n",
        "plt.scatter(\n",
        "    df_cv_results_dt['param_max_depth'],\n",
        "    df_cv_results_dt['mean_test_score'],\n",
        "    )\n",
        "\n",
        "plt.title('max_depth vs. mean_test_score')\n",
        "plt.xlabel('max_depth')\n",
        "plt.ylabel('recall')\n",
        "plt.show()"
      ],
      "metadata": {
        "id": "l-NaV7k0sBD5"
      },
      "execution_count": null,
      "outputs": []
    },
    {
      "cell_type": "code",
      "source": [
        "plt.figure(figsize=(10, 6))\n",
        "plt.scatter(\n",
        "    df_cv_results_dt['param_min_samples_split'],\n",
        "    df_cv_results_dt['mean_test_score'],\n",
        "    )\n",
        "\n",
        "plt.title('min_samples_split vs. mean_test_score')\n",
        "plt.xlabel('min_samples_split')\n",
        "plt.ylabel('recall')\n",
        "plt.show()"
      ],
      "metadata": {
        "id": "oJHlbwCzsZHQ"
      },
      "execution_count": null,
      "outputs": []
    },
    {
      "cell_type": "code",
      "source": [
        "plt.figure(figsize=(10, 6))\n",
        "plt.scatter(\n",
        "    df_cv_results_dt['param_min_samples_leaf'],\n",
        "    df_cv_results_dt['mean_test_score'],\n",
        "    )\n",
        "\n",
        "plt.title('min_samples_leaf vs. mean_test_score')\n",
        "plt.xlabel('min_samples_leaf')\n",
        "plt.ylabel('recall')\n",
        "plt.show()"
      ],
      "metadata": {
        "id": "zXuw-kPGsozG"
      },
      "execution_count": null,
      "outputs": []
    },
    {
      "cell_type": "code",
      "source": [
        "max_iter = np.linspace(100, 300, 5, dtype=int)\n",
        "c = [0.001, 0.01, 0.1, 1, 10]\n",
        "\n",
        "param_grid_lr = [\n",
        "    {'logisticregression__solver' : ['newton-cg', 'lbfgs'],\n",
        "      'logisticregression__penalty' : ['l2'],\n",
        "      'logisticregression__max_iter' : max_iter,\n",
        "       'logisticregression__C' : c},\n",
        "    {'logisticregression__solver' : ['liblinear'],\n",
        "      'logisticregression__penalty' : ['l1', 'l2'],\n",
        "      'logisticregression__max_iter' : max_iter,\n",
        "      'logisticregression__C' : c},\n",
        "]\n",
        "\n",
        "lr_grid_search = GridSearchCV(estimator = make_pipeline(StandardScaler(), LogisticRegression(random_state=42)),\n",
        "                               param_grid = param_grid_lr,\n",
        "                               scoring = \"recall\",\n",
        "                               n_jobs = -1,\n",
        "                               cv = cv)\n",
        "\n",
        "lr_grid_search.fit(x_treino, y_treino)"
      ],
      "metadata": {
        "id": "4j9Qbzkhs69t"
      },
      "execution_count": null,
      "outputs": []
    },
    {
      "cell_type": "code",
      "source": [
        "lr_grid_search.best_params_"
      ],
      "metadata": {
        "id": "M4os7JFdtFZk"
      },
      "execution_count": null,
      "outputs": []
    },
    {
      "cell_type": "code",
      "source": [
        "df_cv_results_lr = pd.DataFrame(lr_grid_search.cv_results_)\n",
        "df_cv_results_lr.head()"
      ],
      "metadata": {
        "id": "mXxO8pwftiK6"
      },
      "execution_count": null,
      "outputs": []
    },
    {
      "cell_type": "code",
      "source": [
        "df_cv_results_lr.loc[[lr_grid_search.best_index_]]"
      ],
      "metadata": {
        "id": "Ud7c-nQItpQv"
      },
      "execution_count": null,
      "outputs": []
    },
    {
      "cell_type": "code",
      "source": [
        "plt.figure(figsize=(10, 6))\n",
        "plt.scatter(\n",
        "    df_cv_results_lr['param_logisticregression__max_iter'],\n",
        "    df_cv_results_lr['mean_test_score'],\n",
        "    )\n",
        "\n",
        "plt.title('max_iter vs. mean_test_score')\n",
        "plt.xlabel('max_iter')\n",
        "plt.ylabel('recall')\n",
        "plt.show()"
      ],
      "metadata": {
        "id": "m45JPITxtkXi"
      },
      "execution_count": null,
      "outputs": []
    },
    {
      "cell_type": "code",
      "source": [
        "plt.figure(figsize=(10, 6))\n",
        "plt.scatter(\n",
        "    df_cv_results_lr['param_logisticregression__C'],\n",
        "    df_cv_results_lr['mean_test_score'],\n",
        "    )\n",
        "\n",
        "plt.title('logisticregression__C vs. mean_test_score')\n",
        "plt.xlabel('logisticregression__C')\n",
        "plt.ylabel('recall')\n",
        "plt.show()"
      ],
      "metadata": {
        "id": "m4wxvkyStnjZ"
      },
      "execution_count": null,
      "outputs": []
    },
    {
      "cell_type": "code",
      "source": [
        "from numpy import linspace\n",
        "from sklearn.neighbors import KNeighborsClassifier\n",
        "from sklearn.model_selection import GridSearchCV, StratifiedKFold\n",
        "from sklearn.preprocessing import StandardScaler\n",
        "from sklearn.pipeline import Pipeline\n",
        "\n",
        "\n",
        "# Definindo a grade de hiperparâmetros\n",
        "param_grid_knn = {\n",
        "    'knn__n_neighbors': linspace(5, 25, 10, dtype=int),\n",
        "    'knn__weights': ['uniform', 'distance'],\n",
        "    'knn__metric': ['euclidean', 'manhattan']\n",
        "}\n",
        "\n",
        "pipe_knn = Pipeline([\n",
        "    ('scaler', StandardScaler()),\n",
        "    ('knn', KNeighborsClassifier())\n",
        "])\n",
        "\n",
        "\n",
        "cv = StratifiedKFold(n_splits=5, shuffle=True, random_state=42)\n",
        "\n",
        "knn_grid_search = GridSearchCV(estimator = pipe_knn,\n",
        "                               param_grid = param_grid_knn,\n",
        "                               scoring = \"recall\",\n",
        "                               n_jobs = -1,\n",
        "                               cv = cv)\n",
        "\n",
        "knn_grid_search.fit(x_treino, y_treino)"
      ],
      "metadata": {
        "id": "pv3fLv8dt0W4"
      },
      "execution_count": null,
      "outputs": []
    },
    {
      "cell_type": "code",
      "source": [
        "knn_grid_search.best_params_"
      ],
      "metadata": {
        "id": "DLd_jc8kuX8M"
      },
      "execution_count": null,
      "outputs": []
    },
    {
      "cell_type": "markdown",
      "source": [
        "## 3. Validação Cruzada Aninhada"
      ],
      "metadata": {
        "id": "R3TmHWAzuSS1"
      }
    },
    {
      "cell_type": "code",
      "source": [
        "inner_cv = StratifiedKFold(shuffle=True, random_state=RANDOM_STATE)\n",
        "\n",
        "outer_cv = StratifiedKFold(n_splits=3, shuffle=True, random_state=RANDOM_STATE)"
      ],
      "metadata": {
        "id": "vtmiXH-YuKR7"
      },
      "execution_count": null,
      "outputs": []
    },
    {
      "cell_type": "code",
      "source": [
        "from sklearn.model_selection import cross_val_score\n",
        "\n",
        "dt_nested_gs = GridSearchCV(estimator = DecisionTreeClassifier(random_state=RANDOM_STATE),\n",
        "                                         param_grid = param_grid_dt,\n",
        "                                         scoring = \"recall\",\n",
        "                                         n_jobs = -1,\n",
        "                                         cv = inner_cv\n",
        "                                         )\n",
        "\n",
        "dt_nested_scores = cross_val_score(dt_nested_gs, x_treino, y_treino, cv=outer_cv)"
      ],
      "metadata": {
        "id": "BesYpudl6ebq"
      },
      "execution_count": null,
      "outputs": []
    },
    {
      "cell_type": "code",
      "source": [
        "print(f'resultado de cada iteração do cv externo: {dt_nested_scores}')\n",
        "print(f'média: {dt_nested_scores.mean()}')"
      ],
      "metadata": {
        "id": "iivEoYW97FnQ"
      },
      "execution_count": null,
      "outputs": []
    },
    {
      "cell_type": "markdown",
      "source": [
        "## 4. Busca Aleatória"
      ],
      "metadata": {
        "id": "spIpHad89QVy"
      }
    },
    {
      "cell_type": "code",
      "source": [],
      "metadata": {
        "id": "D-y1c0Eu9TDj"
      },
      "execution_count": null,
      "outputs": []
    }
  ]
}